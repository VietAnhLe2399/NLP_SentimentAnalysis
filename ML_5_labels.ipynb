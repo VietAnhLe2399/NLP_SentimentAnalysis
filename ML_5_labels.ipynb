{
  "nbformat": 4,
  "nbformat_minor": 0,
  "metadata": {
    "colab": {
      "name": "ML 5 labels",
      "provenance": [],
      "collapsed_sections": [],
      "toc_visible": true,
      "include_colab_link": true
    },
    "kernelspec": {
      "name": "python3",
      "display_name": "Python 3"
    }
  },
  "cells": [
    {
      "cell_type": "markdown",
      "metadata": {
        "id": "view-in-github",
        "colab_type": "text"
      },
      "source": [
        "<a href=\"https://colab.research.google.com/github/VietAnhLee/NLP_1920_FinalExam/blob/master/ML_5_labels.ipynb\" target=\"_parent\"><img src=\"https://colab.research.google.com/assets/colab-badge.svg\" alt=\"Open In Colab\"/></a>"
      ]
    },
    {
      "cell_type": "code",
      "metadata": {
        "id": "JE42vjR56nbE",
        "colab_type": "code",
        "colab": {}
      },
      "source": [
        "from google.colab import drive"
      ],
      "execution_count": 0,
      "outputs": []
    },
    {
      "cell_type": "code",
      "metadata": {
        "id": "lONEupXc6sge",
        "colab_type": "code",
        "outputId": "49515ff3-9a10-40b8-ac9d-9cdde008fca8",
        "colab": {
          "base_uri": "https://localhost:8080/",
          "height": 131
        }
      },
      "source": [
        "drive.mount('/content/drive')"
      ],
      "execution_count": 0,
      "outputs": [
        {
          "output_type": "stream",
          "text": [
            "Go to this URL in a browser: https://accounts.google.com/o/oauth2/auth?client_id=947318989803-6bn6qk8qdgf4n4g3pfee6491hc0brc4i.apps.googleusercontent.com&redirect_uri=urn%3aietf%3awg%3aoauth%3a2.0%3aoob&response_type=code&scope=email%20https%3a%2f%2fwww.googleapis.com%2fauth%2fdocs.test%20https%3a%2f%2fwww.googleapis.com%2fauth%2fdrive%20https%3a%2f%2fwww.googleapis.com%2fauth%2fdrive.photos.readonly%20https%3a%2f%2fwww.googleapis.com%2fauth%2fpeopleapi.readonly\n",
            "\n",
            "Enter your authorization code:\n",
            "··········\n",
            "Mounted at /content/drive\n"
          ],
          "name": "stdout"
        }
      ]
    },
    {
      "cell_type": "code",
      "metadata": {
        "id": "naZzHxNz6wmg",
        "colab_type": "code",
        "colab": {}
      },
      "source": [
        "!cp \"/content/drive/My Drive/Colab Notebooks/NLP_1920_FinalExam/preprocessed_df.csv\" \"preprocessed_df.csv\""
      ],
      "execution_count": 0,
      "outputs": []
    },
    {
      "cell_type": "code",
      "metadata": {
        "id": "cF2QImfh67w7",
        "colab_type": "code",
        "colab": {}
      },
      "source": [
        "import pandas as pd\n",
        "import numpy as np"
      ],
      "execution_count": 0,
      "outputs": []
    },
    {
      "cell_type": "code",
      "metadata": {
        "id": "HxY9u46m6_yb",
        "colab_type": "code",
        "colab": {}
      },
      "source": [
        "df = pd.read_csv('preprocessed_df.csv', sep='\\t')"
      ],
      "execution_count": 0,
      "outputs": []
    },
    {
      "cell_type": "code",
      "metadata": {
        "id": "NNSE6ifZ7rJa",
        "colab_type": "code",
        "outputId": "b2023e13-16fc-4f06-f029-f058f0d611f2",
        "colab": {
          "base_uri": "https://localhost:8080/",
          "height": 424
        }
      },
      "source": [
        "df"
      ],
      "execution_count": 0,
      "outputs": [
        {
          "output_type": "execute_result",
          "data": {
            "text/html": [
              "<div>\n",
              "<style scoped>\n",
              "    .dataframe tbody tr th:only-of-type {\n",
              "        vertical-align: middle;\n",
              "    }\n",
              "\n",
              "    .dataframe tbody tr th {\n",
              "        vertical-align: top;\n",
              "    }\n",
              "\n",
              "    .dataframe thead th {\n",
              "        text-align: right;\n",
              "    }\n",
              "</style>\n",
              "<table border=\"1\" class=\"dataframe\">\n",
              "  <thead>\n",
              "    <tr style=\"text-align: right;\">\n",
              "      <th></th>\n",
              "      <th>sentence</th>\n",
              "      <th>type</th>\n",
              "      <th>point</th>\n",
              "    </tr>\n",
              "  </thead>\n",
              "  <tbody>\n",
              "    <tr>\n",
              "      <th>0</th>\n",
              "      <td>áo bao đẹp ạ positive</td>\n",
              "      <td>POS</td>\n",
              "      <td>5</td>\n",
              "    </tr>\n",
              "    <tr>\n",
              "      <th>1</th>\n",
              "      <td>tuyệt vời positive</td>\n",
              "      <td>POS</td>\n",
              "      <td>5</td>\n",
              "    </tr>\n",
              "    <tr>\n",
              "      <th>2</th>\n",
              "      <td>2day ao không giong trong</td>\n",
              "      <td>NEG</td>\n",
              "      <td>1</td>\n",
              "    </tr>\n",
              "    <tr>\n",
              "      <th>3</th>\n",
              "      <td>mùi thơm bôi lên da mềm da nagative</td>\n",
              "      <td>POS</td>\n",
              "      <td>5</td>\n",
              "    </tr>\n",
              "    <tr>\n",
              "      <th>4</th>\n",
              "      <td>vải đẹp dày dặn positive</td>\n",
              "      <td>POS</td>\n",
              "      <td>5</td>\n",
              "    </tr>\n",
              "    <tr>\n",
              "      <th>...</th>\n",
              "      <td>...</td>\n",
              "      <td>...</td>\n",
              "      <td>...</td>\n",
              "    </tr>\n",
              "    <tr>\n",
              "      <th>31455</th>\n",
              "      <td>không đáng tiền</td>\n",
              "      <td>NEG</td>\n",
              "      <td>1</td>\n",
              "    </tr>\n",
              "    <tr>\n",
              "      <th>31456</th>\n",
              "      <td>quần rất đẹp positive</td>\n",
              "      <td>POS</td>\n",
              "      <td>5</td>\n",
              "    </tr>\n",
              "    <tr>\n",
              "      <th>31457</th>\n",
              "      <td>hàng đẹp đúng giá tiền positive positive</td>\n",
              "      <td>POS</td>\n",
              "      <td>5</td>\n",
              "    </tr>\n",
              "    <tr>\n",
              "      <th>31458</th>\n",
              "      <td>chất vải khá ổn positive</td>\n",
              "      <td>POS</td>\n",
              "      <td>4</td>\n",
              "    </tr>\n",
              "    <tr>\n",
              "      <th>31459</th>\n",
              "      <td>áo rất ok nhé vải mịn len cao cổ này phối form...</td>\n",
              "      <td>POS</td>\n",
              "      <td>5</td>\n",
              "    </tr>\n",
              "  </tbody>\n",
              "</table>\n",
              "<p>31460 rows × 3 columns</p>\n",
              "</div>"
            ],
            "text/plain": [
              "                                                sentence type  point\n",
              "0                                  áo bao đẹp ạ positive  POS      5\n",
              "1                                     tuyệt vời positive  POS      5\n",
              "2                              2day ao không giong trong  NEG      1\n",
              "3                    mùi thơm bôi lên da mềm da nagative  POS      5\n",
              "4                               vải đẹp dày dặn positive  POS      5\n",
              "...                                                  ...  ...    ...\n",
              "31455                                    không đáng tiền  NEG      1\n",
              "31456                              quần rất đẹp positive  POS      5\n",
              "31457           hàng đẹp đúng giá tiền positive positive  POS      5\n",
              "31458                           chất vải khá ổn positive  POS      4\n",
              "31459  áo rất ok nhé vải mịn len cao cổ này phối form...  POS      5\n",
              "\n",
              "[31460 rows x 3 columns]"
            ]
          },
          "metadata": {
            "tags": []
          },
          "execution_count": 6
        }
      ]
    },
    {
      "cell_type": "code",
      "metadata": {
        "colab_type": "code",
        "id": "1eODX-qrLp7w",
        "colab": {}
      },
      "source": [
        "# Try predict only POS, NEU and NEG\n",
        "df2 = df[['sentence', 'type']].copy()"
      ],
      "execution_count": 0,
      "outputs": []
    },
    {
      "cell_type": "code",
      "metadata": {
        "id": "gGQSKj-LLqvv",
        "colab_type": "code",
        "colab": {}
      },
      "source": [
        "# Try predict with 5 labels\n",
        "df2 = df[['sentence', 'point']].copy()"
      ],
      "execution_count": 0,
      "outputs": []
    },
    {
      "cell_type": "code",
      "metadata": {
        "id": "hzMjdKtf72FN",
        "colab_type": "code",
        "outputId": "eae0cf12-53a4-4457-a0aa-cb4b38a8093a",
        "colab": {
          "base_uri": "https://localhost:8080/",
          "height": 424
        }
      },
      "source": [
        "df2"
      ],
      "execution_count": 0,
      "outputs": [
        {
          "output_type": "execute_result",
          "data": {
            "text/html": [
              "<div>\n",
              "<style scoped>\n",
              "    .dataframe tbody tr th:only-of-type {\n",
              "        vertical-align: middle;\n",
              "    }\n",
              "\n",
              "    .dataframe tbody tr th {\n",
              "        vertical-align: top;\n",
              "    }\n",
              "\n",
              "    .dataframe thead th {\n",
              "        text-align: right;\n",
              "    }\n",
              "</style>\n",
              "<table border=\"1\" class=\"dataframe\">\n",
              "  <thead>\n",
              "    <tr style=\"text-align: right;\">\n",
              "      <th></th>\n",
              "      <th>sentence</th>\n",
              "      <th>point</th>\n",
              "    </tr>\n",
              "  </thead>\n",
              "  <tbody>\n",
              "    <tr>\n",
              "      <th>0</th>\n",
              "      <td>áo bao đẹp ạ positive</td>\n",
              "      <td>5</td>\n",
              "    </tr>\n",
              "    <tr>\n",
              "      <th>1</th>\n",
              "      <td>tuyệt vời positive</td>\n",
              "      <td>5</td>\n",
              "    </tr>\n",
              "    <tr>\n",
              "      <th>2</th>\n",
              "      <td>2day ao không giong trong</td>\n",
              "      <td>1</td>\n",
              "    </tr>\n",
              "    <tr>\n",
              "      <th>3</th>\n",
              "      <td>mùi thơm bôi lên da mềm da nagative</td>\n",
              "      <td>5</td>\n",
              "    </tr>\n",
              "    <tr>\n",
              "      <th>4</th>\n",
              "      <td>vải đẹp dày dặn positive</td>\n",
              "      <td>5</td>\n",
              "    </tr>\n",
              "    <tr>\n",
              "      <th>...</th>\n",
              "      <td>...</td>\n",
              "      <td>...</td>\n",
              "    </tr>\n",
              "    <tr>\n",
              "      <th>31455</th>\n",
              "      <td>không đáng tiền</td>\n",
              "      <td>1</td>\n",
              "    </tr>\n",
              "    <tr>\n",
              "      <th>31456</th>\n",
              "      <td>quần rất đẹp positive</td>\n",
              "      <td>5</td>\n",
              "    </tr>\n",
              "    <tr>\n",
              "      <th>31457</th>\n",
              "      <td>hàng đẹp đúng giá tiền positive positive</td>\n",
              "      <td>5</td>\n",
              "    </tr>\n",
              "    <tr>\n",
              "      <th>31458</th>\n",
              "      <td>chất vải khá ổn positive</td>\n",
              "      <td>4</td>\n",
              "    </tr>\n",
              "    <tr>\n",
              "      <th>31459</th>\n",
              "      <td>áo rất ok nhé vải mịn len cao cổ này phối form...</td>\n",
              "      <td>5</td>\n",
              "    </tr>\n",
              "  </tbody>\n",
              "</table>\n",
              "<p>31460 rows × 2 columns</p>\n",
              "</div>"
            ],
            "text/plain": [
              "                                                sentence  point\n",
              "0                                  áo bao đẹp ạ positive      5\n",
              "1                                     tuyệt vời positive      5\n",
              "2                              2day ao không giong trong      1\n",
              "3                    mùi thơm bôi lên da mềm da nagative      5\n",
              "4                               vải đẹp dày dặn positive      5\n",
              "...                                                  ...    ...\n",
              "31455                                    không đáng tiền      1\n",
              "31456                              quần rất đẹp positive      5\n",
              "31457           hàng đẹp đúng giá tiền positive positive      5\n",
              "31458                           chất vải khá ổn positive      4\n",
              "31459  áo rất ok nhé vải mịn len cao cổ này phối form...      5\n",
              "\n",
              "[31460 rows x 2 columns]"
            ]
          },
          "metadata": {
            "tags": []
          },
          "execution_count": 8
        }
      ]
    },
    {
      "cell_type": "code",
      "metadata": {
        "id": "Fn65s-pSCs_e",
        "colab_type": "code",
        "colab": {}
      },
      "source": [
        "# convert NEG, NEU, POS to integer\n",
        "# Use for 3 label version\n",
        "Dict = {'NEG': '1', 'NEU': '2', 'POS': '3'}\n",
        "for i in range(len(df2)):\n",
        "  df2.loc[i, 'type'] = Dict[df2.loc[i, 'type']]  "
      ],
      "execution_count": 0,
      "outputs": []
    },
    {
      "cell_type": "code",
      "metadata": {
        "id": "8LU6296sDo72",
        "colab_type": "code",
        "outputId": "f9399bc2-22ae-49a1-b87e-12e99c94de9c",
        "colab": {
          "base_uri": "https://localhost:8080/",
          "height": 206
        }
      },
      "source": [
        "df2.head()"
      ],
      "execution_count": 0,
      "outputs": [
        {
          "output_type": "execute_result",
          "data": {
            "text/html": [
              "<div>\n",
              "<style scoped>\n",
              "    .dataframe tbody tr th:only-of-type {\n",
              "        vertical-align: middle;\n",
              "    }\n",
              "\n",
              "    .dataframe tbody tr th {\n",
              "        vertical-align: top;\n",
              "    }\n",
              "\n",
              "    .dataframe thead th {\n",
              "        text-align: right;\n",
              "    }\n",
              "</style>\n",
              "<table border=\"1\" class=\"dataframe\">\n",
              "  <thead>\n",
              "    <tr style=\"text-align: right;\">\n",
              "      <th></th>\n",
              "      <th>sentence</th>\n",
              "      <th>point</th>\n",
              "    </tr>\n",
              "  </thead>\n",
              "  <tbody>\n",
              "    <tr>\n",
              "      <th>0</th>\n",
              "      <td>áo bao đẹp ạ positive</td>\n",
              "      <td>5</td>\n",
              "    </tr>\n",
              "    <tr>\n",
              "      <th>1</th>\n",
              "      <td>tuyệt vời positive</td>\n",
              "      <td>5</td>\n",
              "    </tr>\n",
              "    <tr>\n",
              "      <th>2</th>\n",
              "      <td>2day ao không giong trong</td>\n",
              "      <td>1</td>\n",
              "    </tr>\n",
              "    <tr>\n",
              "      <th>3</th>\n",
              "      <td>mùi thơm bôi lên da mềm da nagative</td>\n",
              "      <td>5</td>\n",
              "    </tr>\n",
              "    <tr>\n",
              "      <th>4</th>\n",
              "      <td>vải đẹp dày dặn positive</td>\n",
              "      <td>5</td>\n",
              "    </tr>\n",
              "  </tbody>\n",
              "</table>\n",
              "</div>"
            ],
            "text/plain": [
              "                              sentence  point\n",
              "0                áo bao đẹp ạ positive      5\n",
              "1                   tuyệt vời positive      5\n",
              "2            2day ao không giong trong      1\n",
              "3  mùi thơm bôi lên da mềm da nagative      5\n",
              "4             vải đẹp dày dặn positive      5"
            ]
          },
          "metadata": {
            "tags": []
          },
          "execution_count": 9
        }
      ]
    },
    {
      "cell_type": "code",
      "metadata": {
        "id": "u66yl4MPVH-X",
        "colab_type": "code",
        "colab": {}
      },
      "source": [
        "from sklearn.model_selection import train_test_split\n",
        "train, test = train_test_split(df2, test_size=0.3)"
      ],
      "execution_count": 0,
      "outputs": []
    },
    {
      "cell_type": "code",
      "metadata": {
        "id": "9iATzosMMFxz",
        "colab_type": "code",
        "outputId": "21082150-ba71-4f45-b5fc-a8b3548bec89",
        "colab": {
          "base_uri": "https://localhost:8080/",
          "height": 424
        }
      },
      "source": [
        "train"
      ],
      "execution_count": 0,
      "outputs": [
        {
          "output_type": "execute_result",
          "data": {
            "text/html": [
              "<div>\n",
              "<style scoped>\n",
              "    .dataframe tbody tr th:only-of-type {\n",
              "        vertical-align: middle;\n",
              "    }\n",
              "\n",
              "    .dataframe tbody tr th {\n",
              "        vertical-align: top;\n",
              "    }\n",
              "\n",
              "    .dataframe thead th {\n",
              "        text-align: right;\n",
              "    }\n",
              "</style>\n",
              "<table border=\"1\" class=\"dataframe\">\n",
              "  <thead>\n",
              "    <tr style=\"text-align: right;\">\n",
              "      <th></th>\n",
              "      <th>sentence</th>\n",
              "      <th>point</th>\n",
              "    </tr>\n",
              "  </thead>\n",
              "  <tbody>\n",
              "    <tr>\n",
              "      <th>16660</th>\n",
              "      <td>sẽ ủng hộ cửa hàng dài dài</td>\n",
              "      <td>4</td>\n",
              "    </tr>\n",
              "    <tr>\n",
              "      <th>29416</th>\n",
              "      <td>giao hang rat nhanh</td>\n",
              "      <td>5</td>\n",
              "    </tr>\n",
              "    <tr>\n",
              "      <th>7259</th>\n",
              "      <td>chất lượng sản phẩm tuyệt vời đóng gói sản phẩ...</td>\n",
              "      <td>5</td>\n",
              "    </tr>\n",
              "    <tr>\n",
              "      <th>21380</th>\n",
              "      <td>chất lượng sản phẩm tuyệt vời cửa hàng phục vụ...</td>\n",
              "      <td>5</td>\n",
              "    </tr>\n",
              "    <tr>\n",
              "      <th>27297</th>\n",
              "      <td>nhìn hình thức giống trên hình</td>\n",
              "      <td>5</td>\n",
              "    </tr>\n",
              "    <tr>\n",
              "      <th>...</th>\n",
              "      <td>...</td>\n",
              "      <td>...</td>\n",
              "    </tr>\n",
              "    <tr>\n",
              "      <th>25798</th>\n",
              "      <td>chất lượng sản phẩm tuyệt vời chất lượng sản p...</td>\n",
              "      <td>5</td>\n",
              "    </tr>\n",
              "    <tr>\n",
              "      <th>3227</th>\n",
              "      <td>nước ẩm quá cửa hàng ạ ghi vào là rách giấy na...</td>\n",
              "      <td>3</td>\n",
              "    </tr>\n",
              "    <tr>\n",
              "      <th>24960</th>\n",
              "      <td>quần đẹp nhưng đường may notpos  lắm lấy 2 cỡ ...</td>\n",
              "      <td>2</td>\n",
              "    </tr>\n",
              "    <tr>\n",
              "      <th>8616</th>\n",
              "      <td>chất lượng được positive positive</td>\n",
              "      <td>4</td>\n",
              "    </tr>\n",
              "    <tr>\n",
              "      <th>28794</th>\n",
              "      <td>áo đẹp lắm ạ positive</td>\n",
              "      <td>5</td>\n",
              "    </tr>\n",
              "  </tbody>\n",
              "</table>\n",
              "<p>22022 rows × 2 columns</p>\n",
              "</div>"
            ],
            "text/plain": [
              "                                                sentence  point\n",
              "16660                         sẽ ủng hộ cửa hàng dài dài      4\n",
              "29416                                giao hang rat nhanh      5\n",
              "7259   chất lượng sản phẩm tuyệt vời đóng gói sản phẩ...      5\n",
              "21380  chất lượng sản phẩm tuyệt vời cửa hàng phục vụ...      5\n",
              "27297                     nhìn hình thức giống trên hình      5\n",
              "...                                                  ...    ...\n",
              "25798  chất lượng sản phẩm tuyệt vời chất lượng sản p...      5\n",
              "3227   nước ẩm quá cửa hàng ạ ghi vào là rách giấy na...      3\n",
              "24960  quần đẹp nhưng đường may notpos  lắm lấy 2 cỡ ...      2\n",
              "8616                   chất lượng được positive positive      4\n",
              "28794                              áo đẹp lắm ạ positive      5\n",
              "\n",
              "[22022 rows x 2 columns]"
            ]
          },
          "metadata": {
            "tags": []
          },
          "execution_count": 42
        }
      ]
    },
    {
      "cell_type": "code",
      "metadata": {
        "id": "VsPU9zgO9QLS",
        "colab_type": "code",
        "outputId": "f585cba3-9510-4f2c-d8f9-9d6018949bf0",
        "colab": {
          "base_uri": "https://localhost:8080/",
          "height": 36
        }
      },
      "source": [
        "len(train) + len(test)"
      ],
      "execution_count": 0,
      "outputs": [
        {
          "output_type": "execute_result",
          "data": {
            "text/plain": [
              "31460"
            ]
          },
          "metadata": {
            "tags": []
          },
          "execution_count": 43
        }
      ]
    },
    {
      "cell_type": "code",
      "metadata": {
        "id": "yhxSr0GJ9R9d",
        "colab_type": "code",
        "colab": {}
      },
      "source": [
        "train.to_csv('train_5label.csv', index=False)\n",
        "test.to_csv('test_5label.csv', index=False)"
      ],
      "execution_count": 0,
      "outputs": []
    },
    {
      "cell_type": "code",
      "metadata": {
        "colab_type": "code",
        "id": "7eUYAS9W_Q3C",
        "colab": {}
      },
      "source": [
        "from sklearn.feature_extraction.text import TfidfVectorizer, CountVectorizer"
      ],
      "execution_count": 0,
      "outputs": []
    },
    {
      "cell_type": "code",
      "metadata": {
        "id": "zDe957sl_zLr",
        "colab_type": "code",
        "colab": {}
      },
      "source": [
        "# using tf-idf with 1 - 3 ngram range\n",
        "tfidf = TfidfVectorizer(\n",
        "    min_df = 3, \n",
        "    max_df = 0.5, \n",
        "    ngram_range=(1,3),\n",
        "    use_idf=True,\n",
        "    sublinear_tf=True\n",
        ")"
      ],
      "execution_count": 0,
      "outputs": []
    },
    {
      "cell_type": "code",
      "metadata": {
        "id": "v1oToNXt9lmi",
        "colab_type": "code",
        "colab": {}
      },
      "source": [
        "# Have to add .values.astype('U') to convert type\n",
        "\n",
        "X_train_tfidf = tfidf.fit_transform(train['sentence'].values.astype('U'))\n",
        "X_test_tfidf = tfidf.transform(test['sentence'].values.astype('U'))\n",
        "\n",
        "# v = TfidfVectorizer(decode_error='replace', encoding='utf-8')\n",
        "# x = v.fit_transform(df['Review'])\n",
        "# x = v.fit_transform(df['Review'].values.astype('U'))"
      ],
      "execution_count": 0,
      "outputs": []
    },
    {
      "cell_type": "code",
      "metadata": {
        "id": "Bf0vELag9pp3",
        "colab_type": "code",
        "outputId": "b4c9b040-1c55-4479-de3b-7b038ae36a51",
        "colab": {
          "base_uri": "https://localhost:8080/",
          "height": 36
        }
      },
      "source": [
        "X_train_tfidf.shape"
      ],
      "execution_count": 0,
      "outputs": [
        {
          "output_type": "execute_result",
          "data": {
            "text/plain": [
              "(22022, 16652)"
            ]
          },
          "metadata": {
            "tags": []
          },
          "execution_count": 48
        }
      ]
    },
    {
      "cell_type": "code",
      "metadata": {
        "id": "rhCu-SzpCXVc",
        "colab_type": "code",
        "colab": {}
      },
      "source": [
        "EXCLUED_COLS = ['sentence', 'point']\n",
        "static_cols = [c for c in train.columns if not c in EXCLUED_COLS]\n",
        "X_train_static = train[static_cols].values\n",
        "X_test_static = test[static_cols].values"
      ],
      "execution_count": 0,
      "outputs": []
    },
    {
      "cell_type": "code",
      "metadata": {
        "id": "MEsaMVe8CeM1",
        "colab_type": "code",
        "outputId": "2f405927-ed0a-48eb-9b5d-9226faa6194e",
        "colab": {
          "base_uri": "https://localhost:8080/",
          "height": 189
        }
      },
      "source": [
        "train[static_cols].head()"
      ],
      "execution_count": 0,
      "outputs": [
        {
          "output_type": "execute_result",
          "data": {
            "text/html": [
              "<div>\n",
              "<style scoped>\n",
              "    .dataframe tbody tr th:only-of-type {\n",
              "        vertical-align: middle;\n",
              "    }\n",
              "\n",
              "    .dataframe tbody tr th {\n",
              "        vertical-align: top;\n",
              "    }\n",
              "\n",
              "    .dataframe thead th {\n",
              "        text-align: right;\n",
              "    }\n",
              "</style>\n",
              "<table border=\"1\" class=\"dataframe\">\n",
              "  <thead>\n",
              "    <tr style=\"text-align: right;\">\n",
              "      <th></th>\n",
              "    </tr>\n",
              "  </thead>\n",
              "  <tbody>\n",
              "    <tr>\n",
              "      <th>16660</th>\n",
              "    </tr>\n",
              "    <tr>\n",
              "      <th>29416</th>\n",
              "    </tr>\n",
              "    <tr>\n",
              "      <th>7259</th>\n",
              "    </tr>\n",
              "    <tr>\n",
              "      <th>21380</th>\n",
              "    </tr>\n",
              "    <tr>\n",
              "      <th>27297</th>\n",
              "    </tr>\n",
              "  </tbody>\n",
              "</table>\n",
              "</div>"
            ],
            "text/plain": [
              "Empty DataFrame\n",
              "Columns: []\n",
              "Index: [16660, 29416, 7259, 21380, 27297]"
            ]
          },
          "metadata": {
            "tags": []
          },
          "execution_count": 50
        }
      ]
    },
    {
      "cell_type": "code",
      "metadata": {
        "id": "6EA-76DMEcPW",
        "colab_type": "code",
        "colab": {}
      },
      "source": [
        "from scipy.sparse import hstack, csr_matrix, vstack"
      ],
      "execution_count": 0,
      "outputs": []
    },
    {
      "cell_type": "code",
      "metadata": {
        "id": "s8b1wKzcEfAW",
        "colab_type": "code",
        "colab": {}
      },
      "source": [
        "X_train = hstack([X_train_tfidf, csr_matrix(X_train_static)]).tocsr()\n",
        "X_test = hstack([X_test_tfidf, csr_matrix(X_test_static)]).tocsr()"
      ],
      "execution_count": 0,
      "outputs": []
    },
    {
      "cell_type": "code",
      "metadata": {
        "id": "IMUxaAKyB499",
        "colab_type": "code",
        "colab": {}
      },
      "source": [
        "from sklearn.ensemble import RandomForestClassifier, GradientBoostingClassifier, ExtraTreesClassifier\n",
        "from sklearn.metrics import f1_score, confusion_matrix, accuracy_score\n",
        "from sklearn.linear_model import LogisticRegression\n",
        "from sklearn.neighbors import KNeighborsClassifier\n",
        "from sklearn.svm import SVC"
      ],
      "execution_count": 0,
      "outputs": []
    },
    {
      "cell_type": "code",
      "metadata": {
        "id": "lrlnEBCeB8I2",
        "colab_type": "code",
        "colab": {}
      },
      "source": [
        "clfs = {\n",
        "    \"RF\": RandomForestClassifier(n_estimators=200, min_samples_leaf=2, max_depth=7, max_features=0.7, random_state=42, n_jobs=-1),\n",
        "    \"GB\": GradientBoostingClassifier(n_estimators=200, min_samples_split=2, max_depth=5, max_features=0.7, random_state=111),\n",
        "    \"LR\": LogisticRegression(penalty='l2', C=1.0),\n",
        "    \"KNN\": KNeighborsClassifier(n_neighbors=5),\n",
        "    \"SVM\": SVC(C=5, gamma=0.5),\n",
        "    \"SVM-rbf\": SVC(C=1000, gamma=0.01, probability=True)\n",
        "}"
      ],
      "execution_count": 0,
      "outputs": []
    },
    {
      "cell_type": "code",
      "metadata": {
        "id": "uQrlPU7CB9z1",
        "colab_type": "code",
        "outputId": "a0485e84-339d-4c69-b789-7ce89248cef5",
        "colab": {
          "base_uri": "https://localhost:8080/",
          "height": 1000
        }
      },
      "source": [
        "for name, clf in clfs.items():\n",
        "    print('------ ', name, ' ------')\n",
        "    y_true = train['point'].astype('int')\n",
        "    clf.fit(X_train, y_true)\n",
        "    y_pred = clf.predict(X_train)\n",
        "    \n",
        "    print(\"F1\", f1_score(y_true, y_pred, average=\"micro\"))\n",
        "    print(\"CM\", confusion_matrix(y_true, y_pred))\n",
        "    print(\"ACC\", accuracy_score(y_true, y_pred))\n",
        "    \n",
        "    y_true = test['point'].astype('int')\n",
        "    y_pred = clf.predict(X_test)\n",
        "    \n",
        "    print(\"F1\", f1_score(y_true, y_pred, average=\"micro\"))\n",
        "    print(\"CM\", confusion_matrix(y_true, y_pred))\n",
        "    print(\"ACC\", accuracy_score(y_true, y_pred))"
      ],
      "execution_count": 0,
      "outputs": [
        {
          "output_type": "stream",
          "text": [
            "------  RF  ------\n",
            "F1 0.538189083643629\n",
            "CM [[1453  130  110   17  723]\n",
            " [ 794  331  285   72  691]\n",
            " [ 635  138  561  209 1709]\n",
            " [ 225   46  229  606 3728]\n",
            " [ 228   17   83  101 8901]]\n",
            "ACC 0.538189083643629\n",
            "F1 0.5182242000423819\n",
            "CM [[ 626   82   42    9  337]\n",
            " [ 363  136  129   39  300]\n",
            " [ 260   73  206  132  775]\n",
            " [ 103   21  113  182 1554]\n",
            " [  91    7   35   82 3741]]\n",
            "ACC 0.5182242000423819\n",
            "------  GB  ------\n",
            "F1 0.7429388793025157\n",
            "CM [[1966  119  108   54  186]\n",
            " [ 213 1436  208  142  174]\n",
            " [ 176  179 1869  379  649]\n",
            " [  58   61  231 2227 2257]\n",
            " [  50   22   81  314 8863]]\n",
            "ACC 0.7429388793025157\n",
            "F1 0.5595465140919686\n",
            "CM [[ 620  181  118   51  126]\n",
            " [ 242  306  240   81   98]\n",
            " [ 130  191  435  322  368]\n",
            " [  43   61  197  473 1199]\n",
            " [  33   32   82  362 3447]]\n",
            "ACC 0.5595465140919686\n",
            "------  LR  ------\n"
          ],
          "name": "stdout"
        },
        {
          "output_type": "stream",
          "text": [
            "/usr/local/lib/python3.6/dist-packages/sklearn/linear_model/logistic.py:432: FutureWarning: Default solver will be changed to 'lbfgs' in 0.22. Specify a solver to silence this warning.\n",
            "  FutureWarning)\n",
            "/usr/local/lib/python3.6/dist-packages/sklearn/linear_model/logistic.py:469: FutureWarning: Default multi_class will be changed to 'auto' in 0.22. Specify the multi_class option to silence this warning.\n",
            "  \"this warning.\", FutureWarning)\n"
          ],
          "name": "stderr"
        },
        {
          "output_type": "stream",
          "text": [
            "F1 0.7095631641086186\n",
            "CM [[1922  170  163   47  131]\n",
            " [ 346 1184  360  138  145]\n",
            " [ 182  171 1859  394  646]\n",
            " [  61   74  312 1904 2483]\n",
            " [  55   34  139  345 8757]]\n",
            "ACC 0.7095631641086186\n",
            "F1 0.5775588048315321\n",
            "CM [[ 711  146  120   34   85]\n",
            " [ 281  274  259   78   75]\n",
            " [ 145  161  494  308  338]\n",
            " [  35   61  197  453 1227]\n",
            " [  33   11   93  300 3519]]\n",
            "ACC 0.5775588048315321\n",
            "------  KNN  ------\n",
            "F1 0.5913177731359549\n",
            "CM [[1225   88  534  239  347]\n",
            " [ 276  624  642  247  384]\n",
            " [ 139  124 2018  476  495]\n",
            " [ 106   60  957 2281 1430]\n",
            " [  91   15  993 1357 6874]]\n",
            "ACC 0.5913177731359549\n",
            "F1 0.4319771137952956\n",
            "CM [[ 324   65  368  142  197]\n",
            " [ 148  149  365  143  162]\n",
            " [  92   78  587  309  380]\n",
            " [  69   34  496  546  828]\n",
            " [  74   10  655  746 2471]]\n",
            "ACC 0.43197711379529563\n",
            "------  SVM  ------\n",
            "F1 0.9179002815366452\n",
            "CM [[2358   27   21    4   23]\n",
            " [  34 2089   29    9   12]\n",
            " [  15   33 2897   91  216]\n",
            " [   6   11   70 3776  971]\n",
            " [   7    4   47  178 9094]]\n",
            "ACC 0.9179002815366452\n",
            "F1 0.557003602458148\n",
            "CM [[ 664  219  132   34   47]\n",
            " [ 269  331  245   69   53]\n",
            " [ 142  248  487  312  257]\n",
            " [  46   94  243  551 1039]\n",
            " [  38   28  150  516 3224]]\n",
            "ACC 0.557003602458148\n",
            "------  SVM-rbf  ------\n",
            "F1 0.9105440014530923\n",
            "CM [[2367   23   20    5   18]\n",
            " [  35 2091   31    7    9]\n",
            " [  11   40 2910   89  202]\n",
            " [   5   10   88 3655 1076]\n",
            " [   5    1   60  235 9029]]\n",
            "ACC 0.9105440014530923\n",
            "F1 0.5287137105318923\n",
            "CM [[ 662  225  132   36   41]\n",
            " [ 274  326  249   73   45]\n",
            " [ 165  281  452  299  249]\n",
            " [  62  126  267  557  961]\n",
            " [  47   55  213  648 2993]]\n",
            "ACC 0.5287137105318923\n"
          ],
          "name": "stdout"
        }
      ]
    },
    {
      "cell_type": "code",
      "metadata": {
        "id": "MjYmIm7bIyjV",
        "colab_type": "code",
        "colab": {}
      },
      "source": [
        "# Try with fold\n",
        "# Not yet install\n",
        "\n",
        "# from pystacknet.pystacknet import StackNetClassifier\n",
        "\n",
        "# model = StackNetClassifier(\n",
        "#     models, metric=\"accuracy\", \n",
        "#     folds=5,\n",
        "#     restacking=False, \n",
        "#     use_retraining=True, \n",
        "#     use_proba=True, \n",
        "#     random_state=12345, n_jobs=1, verbose=1\n",
        "# )\n",
        "\n",
        "# y_train = train['label'].astype('int')\n",
        "# model.fit(X_train, y_train)\n",
        "# preds=model.predict_proba(X_test)"
      ],
      "execution_count": 0,
      "outputs": []
    },
    {
      "cell_type": "code",
      "metadata": {
        "id": "UKt7fudYM8wb",
        "colab_type": "code",
        "colab": {}
      },
      "source": [
        "import pickle"
      ],
      "execution_count": 0,
      "outputs": []
    },
    {
      "cell_type": "code",
      "metadata": {
        "id": "pplKJnKaNPKq",
        "colab_type": "code",
        "colab": {}
      },
      "source": [
        "# with open('NLP1920_5Label_.pkl', 'wb') as f:\n",
        "#   pickle.dump(clfs[\"RF\"], f)\n",
        "\n",
        "with open('NLP1920_5Label_gradient_boosting.pkl', 'wb') as f:\n",
        "  pickle.dump(clfs[\"GB\"], f)\n",
        "\n",
        "with open('NLP1920_5Label_linear_regression.pkl', 'wb') as f:\n",
        "  pickle.dump(clfs[\"LR\"], f)\n",
        "\n",
        "with open('NLP1920_5Label_svm.pkl', 'wb') as f:\n",
        "  pickle.dump(clfs[\"SVM\"], f)"
      ],
      "execution_count": 0,
      "outputs": []
    },
    {
      "cell_type": "code",
      "metadata": {
        "id": "ccNHidVbN_AC",
        "colab_type": "code",
        "colab": {}
      },
      "source": [
        "# !cp NLP1920_5Label_random_forest.pkl drive/My\\ 'Drive/Colab Notebooks/NLP_1920_FinalExam/ML Models 5 labels'\n",
        "!cp NLP1920_5Label_gradient_boosting.pkl drive/My\\ 'Drive/Colab Notebooks/NLP_1920_FinalExam/ML Models 5 labels'\n",
        "!cp NLP1920_5Label_linear_regression.pkl drive/My\\ 'Drive/Colab Notebooks/NLP_1920_FinalExam/ML Models 5 labels'\n",
        "!cp NLP1920_5Label_svm.pkl drive/My\\ 'Drive/Colab Notebooks/NLP_1920_FinalExam/ML Models 5 labels'"
      ],
      "execution_count": 0,
      "outputs": []
    },
    {
      "cell_type": "code",
      "metadata": {
        "id": "5PQcnuJWOj11",
        "colab_type": "code",
        "colab": {}
      },
      "source": [
        "with open('NLP1920_5label_tfidf.pkl', 'wb') as f:\n",
        "    pickle.dump(tfidf, f)"
      ],
      "execution_count": 0,
      "outputs": []
    },
    {
      "cell_type": "code",
      "metadata": {
        "id": "2O95EM8xO7Y-",
        "colab_type": "code",
        "colab": {}
      },
      "source": [
        "!cp NLP1920_5label_tfidf.pkl drive/My\\ 'Drive/Colab Notebooks/NLP_1920_FinalExam/ML Models 5 labels'"
      ],
      "execution_count": 0,
      "outputs": []
    },
    {
      "cell_type": "code",
      "metadata": {
        "id": "845OddUaO_dv",
        "colab_type": "code",
        "colab": {}
      },
      "source": [
        "# Test model\n",
        "# Try with Gradient Boosting first\n",
        "\n",
        "test_sentence = 'Mỗi tội đóng gói k đc đẹp cho lắm nhưng vẫn cho shop 5 sao.'\n",
        "sen_tfidf = tfidf.transform([test_sentence])"
      ],
      "execution_count": 0,
      "outputs": []
    },
    {
      "cell_type": "code",
      "metadata": {
        "id": "3LwIvAYQQAtM",
        "colab_type": "code",
        "colab": {}
      },
      "source": [
        "feat = hstack([sen_tfidf]).tocsr()"
      ],
      "execution_count": 0,
      "outputs": []
    },
    {
      "cell_type": "code",
      "metadata": {
        "id": "YClaqY-yQJIO",
        "colab_type": "code",
        "colab": {}
      },
      "source": [
        "label = clfs[\"SVM\"].predict(feat)"
      ],
      "execution_count": 0,
      "outputs": []
    },
    {
      "cell_type": "code",
      "metadata": {
        "id": "JkC8LMlBQPTA",
        "colab_type": "code",
        "outputId": "6dc20b2f-6db9-4d73-aca7-798554c8b519",
        "colab": {
          "base_uri": "https://localhost:8080/",
          "height": 36
        }
      },
      "source": [
        "# convertToTypeDict = {1: 'NEG', 2: 'NEU', 3: 'POS'}\n",
        "print(int(label[0]))"
      ],
      "execution_count": 0,
      "outputs": [
        {
          "output_type": "stream",
          "text": [
            "5\n"
          ],
          "name": "stdout"
        }
      ]
    },
    {
      "cell_type": "code",
      "metadata": {
        "id": "_7bdaeMTQRsJ",
        "colab_type": "code",
        "colab": {}
      },
      "source": [
        "# !cp test.csv drive/My\\ 'Drive/Colab Notebooks/NLP_1920_FinalExam/ML Models'\n",
        "# !cp train.csv drive/My\\ 'Drive/Colab Notebooks/NLP_1920_FinalExam/ML Models'"
      ],
      "execution_count": 0,
      "outputs": []
    },
    {
      "cell_type": "code",
      "metadata": {
        "id": "pXo17p9VRLvX",
        "colab_type": "code",
        "colab": {}
      },
      "source": [
        ""
      ],
      "execution_count": 0,
      "outputs": []
    }
  ]
}