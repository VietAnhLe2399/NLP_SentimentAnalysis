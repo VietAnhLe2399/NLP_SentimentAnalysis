{
  "nbformat": 4,
  "nbformat_minor": 0,
  "metadata": {
    "colab": {
      "name": "ML",
      "provenance": [],
      "collapsed_sections": [],
      "toc_visible": true,
      "include_colab_link": true
    },
    "kernelspec": {
      "name": "python3",
      "display_name": "Python 3"
    }
  },
  "cells": [
    {
      "cell_type": "markdown",
      "metadata": {
        "id": "view-in-github",
        "colab_type": "text"
      },
      "source": [
        "<a href=\"https://colab.research.google.com/github/VietAnhLee/NLP_1920_FinalExam/blob/master/ML.ipynb\" target=\"_parent\"><img src=\"https://colab.research.google.com/assets/colab-badge.svg\" alt=\"Open In Colab\"/></a>"
      ]
    },
    {
      "cell_type": "code",
      "metadata": {
        "id": "JE42vjR56nbE",
        "colab_type": "code",
        "colab": {}
      },
      "source": [
        "from google.colab import drive"
      ],
      "execution_count": 0,
      "outputs": []
    },
    {
      "cell_type": "code",
      "metadata": {
        "id": "lONEupXc6sge",
        "colab_type": "code",
        "outputId": "d28f6051-b638-41bf-c99d-4bb1ba214d49",
        "colab": {
          "base_uri": "https://localhost:8080/",
          "height": 131
        }
      },
      "source": [
        "drive.mount('/content/drive')"
      ],
      "execution_count": 0,
      "outputs": [
        {
          "output_type": "stream",
          "text": [
            "Go to this URL in a browser: https://accounts.google.com/o/oauth2/auth?client_id=947318989803-6bn6qk8qdgf4n4g3pfee6491hc0brc4i.apps.googleusercontent.com&redirect_uri=urn%3aietf%3awg%3aoauth%3a2.0%3aoob&response_type=code&scope=email%20https%3a%2f%2fwww.googleapis.com%2fauth%2fdocs.test%20https%3a%2f%2fwww.googleapis.com%2fauth%2fdrive%20https%3a%2f%2fwww.googleapis.com%2fauth%2fdrive.photos.readonly%20https%3a%2f%2fwww.googleapis.com%2fauth%2fpeopleapi.readonly\n",
            "\n",
            "Enter your authorization code:\n",
            "··········\n",
            "Mounted at /content/drive\n"
          ],
          "name": "stdout"
        }
      ]
    },
    {
      "cell_type": "code",
      "metadata": {
        "id": "naZzHxNz6wmg",
        "colab_type": "code",
        "colab": {}
      },
      "source": [
        "!cp \"/content/drive/My Drive/Colab Notebooks/NLP_1920_FinalExam/preprocessed_df.csv\" \"preprocessed_df.csv\""
      ],
      "execution_count": 0,
      "outputs": []
    },
    {
      "cell_type": "code",
      "metadata": {
        "id": "cF2QImfh67w7",
        "colab_type": "code",
        "colab": {}
      },
      "source": [
        "from gensim.models import Word2Vec\n",
        "import os\n",
        "import pandas as pd\n",
        "import numpy as np"
      ],
      "execution_count": 0,
      "outputs": []
    },
    {
      "cell_type": "code",
      "metadata": {
        "id": "HxY9u46m6_yb",
        "colab_type": "code",
        "colab": {}
      },
      "source": [
        "df = pd.read_csv('preprocessed_df.csv', sep='\\t')"
      ],
      "execution_count": 0,
      "outputs": []
    },
    {
      "cell_type": "code",
      "metadata": {
        "id": "NNSE6ifZ7rJa",
        "colab_type": "code",
        "outputId": "3366e8df-0660-4141-f511-f08ad55aae21",
        "colab": {
          "base_uri": "https://localhost:8080/",
          "height": 424
        }
      },
      "source": [
        "df"
      ],
      "execution_count": 0,
      "outputs": [
        {
          "output_type": "execute_result",
          "data": {
            "text/html": [
              "<div>\n",
              "<style scoped>\n",
              "    .dataframe tbody tr th:only-of-type {\n",
              "        vertical-align: middle;\n",
              "    }\n",
              "\n",
              "    .dataframe tbody tr th {\n",
              "        vertical-align: top;\n",
              "    }\n",
              "\n",
              "    .dataframe thead th {\n",
              "        text-align: right;\n",
              "    }\n",
              "</style>\n",
              "<table border=\"1\" class=\"dataframe\">\n",
              "  <thead>\n",
              "    <tr style=\"text-align: right;\">\n",
              "      <th></th>\n",
              "      <th>sentence</th>\n",
              "      <th>type</th>\n",
              "      <th>point</th>\n",
              "    </tr>\n",
              "  </thead>\n",
              "  <tbody>\n",
              "    <tr>\n",
              "      <th>0</th>\n",
              "      <td>áo bao đẹp ạ positive</td>\n",
              "      <td>POS</td>\n",
              "      <td>5</td>\n",
              "    </tr>\n",
              "    <tr>\n",
              "      <th>1</th>\n",
              "      <td>tuyệt vời positive</td>\n",
              "      <td>POS</td>\n",
              "      <td>5</td>\n",
              "    </tr>\n",
              "    <tr>\n",
              "      <th>2</th>\n",
              "      <td>2day ao không giong trong</td>\n",
              "      <td>NEG</td>\n",
              "      <td>1</td>\n",
              "    </tr>\n",
              "    <tr>\n",
              "      <th>3</th>\n",
              "      <td>mùi thơm bôi lên da mềm da nagative</td>\n",
              "      <td>POS</td>\n",
              "      <td>5</td>\n",
              "    </tr>\n",
              "    <tr>\n",
              "      <th>4</th>\n",
              "      <td>vải đẹp dày dặn positive</td>\n",
              "      <td>POS</td>\n",
              "      <td>5</td>\n",
              "    </tr>\n",
              "    <tr>\n",
              "      <th>...</th>\n",
              "      <td>...</td>\n",
              "      <td>...</td>\n",
              "      <td>...</td>\n",
              "    </tr>\n",
              "    <tr>\n",
              "      <th>31455</th>\n",
              "      <td>không đáng tiền</td>\n",
              "      <td>NEG</td>\n",
              "      <td>1</td>\n",
              "    </tr>\n",
              "    <tr>\n",
              "      <th>31456</th>\n",
              "      <td>quần rất đẹp positive</td>\n",
              "      <td>POS</td>\n",
              "      <td>5</td>\n",
              "    </tr>\n",
              "    <tr>\n",
              "      <th>31457</th>\n",
              "      <td>hàng đẹp đúng giá tiền positive positive</td>\n",
              "      <td>POS</td>\n",
              "      <td>5</td>\n",
              "    </tr>\n",
              "    <tr>\n",
              "      <th>31458</th>\n",
              "      <td>chất vải khá ổn positive</td>\n",
              "      <td>POS</td>\n",
              "      <td>4</td>\n",
              "    </tr>\n",
              "    <tr>\n",
              "      <th>31459</th>\n",
              "      <td>áo rất ok nhé vải mịn len cao cổ này phối form...</td>\n",
              "      <td>POS</td>\n",
              "      <td>5</td>\n",
              "    </tr>\n",
              "  </tbody>\n",
              "</table>\n",
              "<p>31460 rows × 3 columns</p>\n",
              "</div>"
            ],
            "text/plain": [
              "                                                sentence type  point\n",
              "0                                  áo bao đẹp ạ positive  POS      5\n",
              "1                                     tuyệt vời positive  POS      5\n",
              "2                              2day ao không giong trong  NEG      1\n",
              "3                    mùi thơm bôi lên da mềm da nagative  POS      5\n",
              "4                               vải đẹp dày dặn positive  POS      5\n",
              "...                                                  ...  ...    ...\n",
              "31455                                    không đáng tiền  NEG      1\n",
              "31456                              quần rất đẹp positive  POS      5\n",
              "31457           hàng đẹp đúng giá tiền positive positive  POS      5\n",
              "31458                           chất vải khá ổn positive  POS      4\n",
              "31459  áo rất ok nhé vải mịn len cao cổ này phối form...  POS      5\n",
              "\n",
              "[31460 rows x 3 columns]"
            ]
          },
          "metadata": {
            "tags": []
          },
          "execution_count": 26
        }
      ]
    },
    {
      "cell_type": "code",
      "metadata": {
        "id": "-iVCrupv7rmO",
        "colab_type": "code",
        "colab": {}
      },
      "source": [
        "# Try predict only POS, NEU and NEG\n",
        "df2 = df[['sentence', 'type']].copy()"
      ],
      "execution_count": 0,
      "outputs": []
    },
    {
      "cell_type": "code",
      "metadata": {
        "id": "hzMjdKtf72FN",
        "colab_type": "code",
        "outputId": "37467eb4-6f11-42ac-e4e1-9ea0cffda54f",
        "colab": {
          "base_uri": "https://localhost:8080/",
          "height": 424
        }
      },
      "source": [
        "df2"
      ],
      "execution_count": 0,
      "outputs": [
        {
          "output_type": "execute_result",
          "data": {
            "text/html": [
              "<div>\n",
              "<style scoped>\n",
              "    .dataframe tbody tr th:only-of-type {\n",
              "        vertical-align: middle;\n",
              "    }\n",
              "\n",
              "    .dataframe tbody tr th {\n",
              "        vertical-align: top;\n",
              "    }\n",
              "\n",
              "    .dataframe thead th {\n",
              "        text-align: right;\n",
              "    }\n",
              "</style>\n",
              "<table border=\"1\" class=\"dataframe\">\n",
              "  <thead>\n",
              "    <tr style=\"text-align: right;\">\n",
              "      <th></th>\n",
              "      <th>sentence</th>\n",
              "      <th>type</th>\n",
              "    </tr>\n",
              "  </thead>\n",
              "  <tbody>\n",
              "    <tr>\n",
              "      <th>0</th>\n",
              "      <td>áo bao đẹp ạ positive</td>\n",
              "      <td>POS</td>\n",
              "    </tr>\n",
              "    <tr>\n",
              "      <th>1</th>\n",
              "      <td>tuyệt vời positive</td>\n",
              "      <td>POS</td>\n",
              "    </tr>\n",
              "    <tr>\n",
              "      <th>2</th>\n",
              "      <td>2day ao không giong trong</td>\n",
              "      <td>NEG</td>\n",
              "    </tr>\n",
              "    <tr>\n",
              "      <th>3</th>\n",
              "      <td>mùi thơm bôi lên da mềm da nagative</td>\n",
              "      <td>POS</td>\n",
              "    </tr>\n",
              "    <tr>\n",
              "      <th>4</th>\n",
              "      <td>vải đẹp dày dặn positive</td>\n",
              "      <td>POS</td>\n",
              "    </tr>\n",
              "    <tr>\n",
              "      <th>...</th>\n",
              "      <td>...</td>\n",
              "      <td>...</td>\n",
              "    </tr>\n",
              "    <tr>\n",
              "      <th>31455</th>\n",
              "      <td>không đáng tiền</td>\n",
              "      <td>NEG</td>\n",
              "    </tr>\n",
              "    <tr>\n",
              "      <th>31456</th>\n",
              "      <td>quần rất đẹp positive</td>\n",
              "      <td>POS</td>\n",
              "    </tr>\n",
              "    <tr>\n",
              "      <th>31457</th>\n",
              "      <td>hàng đẹp đúng giá tiền positive positive</td>\n",
              "      <td>POS</td>\n",
              "    </tr>\n",
              "    <tr>\n",
              "      <th>31458</th>\n",
              "      <td>chất vải khá ổn positive</td>\n",
              "      <td>POS</td>\n",
              "    </tr>\n",
              "    <tr>\n",
              "      <th>31459</th>\n",
              "      <td>áo rất ok nhé vải mịn len cao cổ này phối form...</td>\n",
              "      <td>POS</td>\n",
              "    </tr>\n",
              "  </tbody>\n",
              "</table>\n",
              "<p>31460 rows × 2 columns</p>\n",
              "</div>"
            ],
            "text/plain": [
              "                                                sentence type\n",
              "0                                  áo bao đẹp ạ positive  POS\n",
              "1                                     tuyệt vời positive  POS\n",
              "2                              2day ao không giong trong  NEG\n",
              "3                    mùi thơm bôi lên da mềm da nagative  POS\n",
              "4                               vải đẹp dày dặn positive  POS\n",
              "...                                                  ...  ...\n",
              "31455                                    không đáng tiền  NEG\n",
              "31456                              quần rất đẹp positive  POS\n",
              "31457           hàng đẹp đúng giá tiền positive positive  POS\n",
              "31458                           chất vải khá ổn positive  POS\n",
              "31459  áo rất ok nhé vải mịn len cao cổ này phối form...  POS\n",
              "\n",
              "[31460 rows x 2 columns]"
            ]
          },
          "metadata": {
            "tags": []
          },
          "execution_count": 43
        }
      ]
    },
    {
      "cell_type": "code",
      "metadata": {
        "id": "Fn65s-pSCs_e",
        "colab_type": "code",
        "colab": {}
      },
      "source": [
        "Dict = {'NEG': '1', 'NEU': '2', 'POS': '3'}\n",
        "for i in range(len(df2)):\n",
        "  df2.loc[i, 'type'] = Dict[df2.loc[i, 'type']]  "
      ],
      "execution_count": 0,
      "outputs": []
    },
    {
      "cell_type": "code",
      "metadata": {
        "id": "8LU6296sDo72",
        "colab_type": "code",
        "outputId": "1111ec16-f559-4aa6-e6eb-6f69ee5fa0d5",
        "colab": {
          "base_uri": "https://localhost:8080/",
          "height": 206
        }
      },
      "source": [
        "df2.head()"
      ],
      "execution_count": 0,
      "outputs": [
        {
          "output_type": "execute_result",
          "data": {
            "text/html": [
              "<div>\n",
              "<style scoped>\n",
              "    .dataframe tbody tr th:only-of-type {\n",
              "        vertical-align: middle;\n",
              "    }\n",
              "\n",
              "    .dataframe tbody tr th {\n",
              "        vertical-align: top;\n",
              "    }\n",
              "\n",
              "    .dataframe thead th {\n",
              "        text-align: right;\n",
              "    }\n",
              "</style>\n",
              "<table border=\"1\" class=\"dataframe\">\n",
              "  <thead>\n",
              "    <tr style=\"text-align: right;\">\n",
              "      <th></th>\n",
              "      <th>sentence</th>\n",
              "      <th>type</th>\n",
              "    </tr>\n",
              "  </thead>\n",
              "  <tbody>\n",
              "    <tr>\n",
              "      <th>0</th>\n",
              "      <td>áo bao đẹp ạ positive</td>\n",
              "      <td>3</td>\n",
              "    </tr>\n",
              "    <tr>\n",
              "      <th>1</th>\n",
              "      <td>tuyệt vời positive</td>\n",
              "      <td>3</td>\n",
              "    </tr>\n",
              "    <tr>\n",
              "      <th>2</th>\n",
              "      <td>2day ao không giong trong</td>\n",
              "      <td>1</td>\n",
              "    </tr>\n",
              "    <tr>\n",
              "      <th>3</th>\n",
              "      <td>mùi thơm bôi lên da mềm da nagative</td>\n",
              "      <td>3</td>\n",
              "    </tr>\n",
              "    <tr>\n",
              "      <th>4</th>\n",
              "      <td>vải đẹp dày dặn positive</td>\n",
              "      <td>3</td>\n",
              "    </tr>\n",
              "  </tbody>\n",
              "</table>\n",
              "</div>"
            ],
            "text/plain": [
              "                              sentence type\n",
              "0                áo bao đẹp ạ positive    3\n",
              "1                   tuyệt vời positive    3\n",
              "2            2day ao không giong trong    1\n",
              "3  mùi thơm bôi lên da mềm da nagative    3\n",
              "4             vải đẹp dày dặn positive    3"
            ]
          },
          "metadata": {
            "tags": []
          },
          "execution_count": 45
        }
      ]
    },
    {
      "cell_type": "code",
      "metadata": {
        "id": "qlrAOUe79FEv",
        "colab_type": "code",
        "colab": {}
      },
      "source": [
        "n = int(len(df2) * 0.3)"
      ],
      "execution_count": 0,
      "outputs": []
    },
    {
      "cell_type": "code",
      "metadata": {
        "id": "M4xkzJUB9KoX",
        "colab_type": "code",
        "colab": {}
      },
      "source": [
        "train = df2[n:]\n",
        "test = df2[:n]"
      ],
      "execution_count": 0,
      "outputs": []
    },
    {
      "cell_type": "code",
      "metadata": {
        "id": "VsPU9zgO9QLS",
        "colab_type": "code",
        "outputId": "12ac4d96-780f-44b5-e32e-1e45d17d6e7f",
        "colab": {
          "base_uri": "https://localhost:8080/",
          "height": 36
        }
      },
      "source": [
        "len(train) + len(test)"
      ],
      "execution_count": 0,
      "outputs": [
        {
          "output_type": "execute_result",
          "data": {
            "text/plain": [
              "31460"
            ]
          },
          "metadata": {
            "tags": []
          },
          "execution_count": 49
        }
      ]
    },
    {
      "cell_type": "code",
      "metadata": {
        "id": "yhxSr0GJ9R9d",
        "colab_type": "code",
        "colab": {}
      },
      "source": [
        "train.to_csv('train.csv', index=False)\n",
        "test.to_csv('test.csv', index=False)"
      ],
      "execution_count": 0,
      "outputs": []
    },
    {
      "cell_type": "code",
      "metadata": {
        "colab_type": "code",
        "id": "7eUYAS9W_Q3C",
        "colab": {}
      },
      "source": [
        "from sklearn.feature_extraction.text import TfidfVectorizer, CountVectorizer"
      ],
      "execution_count": 0,
      "outputs": []
    },
    {
      "cell_type": "code",
      "metadata": {
        "id": "zDe957sl_zLr",
        "colab_type": "code",
        "colab": {}
      },
      "source": [
        "# using tf-idf with 1 - 3 ngram range\n",
        "tfidf = TfidfVectorizer(\n",
        "    min_df = 3, \n",
        "    max_df = 0.5, \n",
        "    ngram_range=(1,3),\n",
        "    use_idf=True,\n",
        "    sublinear_tf=True\n",
        ")"
      ],
      "execution_count": 0,
      "outputs": []
    },
    {
      "cell_type": "code",
      "metadata": {
        "id": "v1oToNXt9lmi",
        "colab_type": "code",
        "colab": {}
      },
      "source": [
        "# Have to add .values.astype('U') to convert type\n",
        "\n",
        "X_train_tfidf = tfidf.fit_transform(train['sentence'].values.astype('U'))\n",
        "X_test_tfidf = tfidf.transform(test['sentence'].values.astype('U'))\n",
        "\n",
        "# v = TfidfVectorizer(decode_error='replace', encoding='utf-8')\n",
        "# x = v.fit_transform(df['Review'])\n",
        "# x = v.fit_transform(df['Review'].values.astype('U'))"
      ],
      "execution_count": 0,
      "outputs": []
    },
    {
      "cell_type": "code",
      "metadata": {
        "id": "Bf0vELag9pp3",
        "colab_type": "code",
        "outputId": "6f7b17c5-5845-4a66-cae2-b9f60c1c841d",
        "colab": {
          "base_uri": "https://localhost:8080/",
          "height": 36
        }
      },
      "source": [
        "X_train_tfidf.shape"
      ],
      "execution_count": 0,
      "outputs": [
        {
          "output_type": "execute_result",
          "data": {
            "text/plain": [
              "(22022, 16901)"
            ]
          },
          "metadata": {
            "tags": []
          },
          "execution_count": 55
        }
      ]
    },
    {
      "cell_type": "code",
      "metadata": {
        "id": "rhCu-SzpCXVc",
        "colab_type": "code",
        "colab": {}
      },
      "source": [
        "# EXCLUED_COLS = ['sentence', 'type']\n",
        "# static_cols = [c for c in train.columns if not c in EXCLUED_COLS]\n",
        "# X_train_static = train[static_cols].values\n",
        "# X_test_static = test[static_cols].values"
      ],
      "execution_count": 0,
      "outputs": []
    },
    {
      "cell_type": "code",
      "metadata": {
        "id": "MEsaMVe8CeM1",
        "colab_type": "code",
        "colab": {}
      },
      "source": [
        "# train[static_cols].head()"
      ],
      "execution_count": 0,
      "outputs": []
    },
    {
      "cell_type": "code",
      "metadata": {
        "id": "6EA-76DMEcPW",
        "colab_type": "code",
        "colab": {}
      },
      "source": [
        "from scipy.sparse import hstack, csr_matrix, vstack"
      ],
      "execution_count": 0,
      "outputs": []
    },
    {
      "cell_type": "code",
      "metadata": {
        "id": "s8b1wKzcEfAW",
        "colab_type": "code",
        "colab": {}
      },
      "source": [
        "X_train = hstack([X_train_tfidf, csr_matrix(X_train_static)]).tocsr()\n",
        "X_test = hstack([X_test_tfidf, csr_matrix(X_test_static)]).tocsr()"
      ],
      "execution_count": 0,
      "outputs": []
    },
    {
      "cell_type": "code",
      "metadata": {
        "id": "IMUxaAKyB499",
        "colab_type": "code",
        "colab": {}
      },
      "source": [
        "from sklearn.ensemble import RandomForestClassifier, GradientBoostingClassifier, ExtraTreesClassifier\n",
        "from sklearn.metrics import f1_score, confusion_matrix, accuracy_score\n",
        "from sklearn.linear_model import LogisticRegression\n",
        "from sklearn.neighbors import KNeighborsClassifier\n",
        "from sklearn.svm import SVC"
      ],
      "execution_count": 0,
      "outputs": []
    },
    {
      "cell_type": "code",
      "metadata": {
        "id": "lrlnEBCeB8I2",
        "colab_type": "code",
        "colab": {}
      },
      "source": [
        "clfs = {\n",
        "    \"RF\": RandomForestClassifier(n_estimators=200, min_samples_leaf=2, max_depth=7, max_features=0.7, random_state=42, n_jobs=-1),\n",
        "    \"GB\": GradientBoostingClassifier(n_estimators=200, min_samples_split=2, max_depth=5, max_features=0.7, random_state=111),\n",
        "    \"LR\": LogisticRegression(penalty='l2', C=1.0),\n",
        "    \"KNN\": KNeighborsClassifier(n_neighbors=5),\n",
        "    \"SVM\": SVC(C=5, gamma=0.5)\n",
        "}"
      ],
      "execution_count": 0,
      "outputs": []
    },
    {
      "cell_type": "code",
      "metadata": {
        "id": "uQrlPU7CB9z1",
        "colab_type": "code",
        "outputId": "15fad4c7-b017-402d-cb18-4fb73729cefb",
        "colab": {
          "base_uri": "https://localhost:8080/",
          "height": 1000
        }
      },
      "source": [
        "for name, clf in clfs.items():\n",
        "    print(name)\n",
        "    y_true = train['type'].astype('int')\n",
        "    clf.fit(X_train, y_true)\n",
        "    y_pred = clf.predict(X_train)\n",
        "    \n",
        "    print(\"F1\", f1_score(y_true, y_pred, average=\"micro\"))\n",
        "    print(\"CM\", confusion_matrix(y_true, y_pred))\n",
        "    print(\"ACC\", accuracy_score(y_true, y_pred))\n",
        "    \n",
        "    y_true = test['type'].astype('int')\n",
        "    y_pred = clf.predict(X_test)\n",
        "    \n",
        "    print(\"F1\", f1_score(y_true, y_pred, average=\"micro\"))\n",
        "    print(\"CM\", confusion_matrix(y_true, y_pred))\n",
        "    print(\"ACC\", accuracy_score(y_true, y_pred))"
      ],
      "execution_count": 0,
      "outputs": [
        {
          "output_type": "stream",
          "text": [
            "RF\n",
            "F1 0.766188357097448\n",
            "CM [[ 3167    21  1621]\n",
            " [  878   163  1983]\n",
            " [  617    29 13543]]\n",
            "ACC 0.766188357097448\n",
            "F1 0.7309811400720493\n",
            "CM [[1236   15  609]\n",
            " [ 516   49 1109]\n",
            " [ 242   48 5614]]\n",
            "ACC 0.7309811400720492\n",
            "GB\n",
            "F1 0.8474253019707565\n",
            "CM [[ 3966   145   698]\n",
            " [  700   965  1359]\n",
            " [  348   110 13731]]\n",
            "ACC 0.8474253019707565\n",
            "F1 0.765310447128629\n",
            "CM [[1415  118  327]\n",
            " [ 598  258  818]\n",
            " [ 187  167 5550]]\n",
            "ACC 0.765310447128629\n",
            "LR\n"
          ],
          "name": "stdout"
        },
        {
          "output_type": "stream",
          "text": [
            "/usr/local/lib/python3.6/dist-packages/sklearn/linear_model/logistic.py:432: FutureWarning: Default solver will be changed to 'lbfgs' in 0.22. Specify a solver to silence this warning.\n",
            "  FutureWarning)\n",
            "/usr/local/lib/python3.6/dist-packages/sklearn/linear_model/logistic.py:469: FutureWarning: Default multi_class will be changed to 'auto' in 0.22. Specify the multi_class option to silence this warning.\n",
            "  \"this warning.\", FutureWarning)\n"
          ],
          "name": "stderr"
        },
        {
          "output_type": "stream",
          "text": [
            "F1 0.8501498501498501\n",
            "CM [[ 4195    97   517]\n",
            " [  793   811  1420]\n",
            " [  345   128 13716]]\n",
            "ACC 0.8501498501498501\n",
            "F1 0.776541640178004\n",
            "CM [[1515   87  258]\n",
            " [ 630  230  814]\n",
            " [ 183  137 5584]]\n",
            "ACC 0.7765416401780039\n",
            "KNN\n",
            "F1 0.7740895468168195\n",
            "CM [[ 2645   823  1341]\n",
            " [  347  1363  1314]\n",
            " [  306   844 13039]]\n",
            "ACC 0.7740895468168195\n",
            "F1 0.655541428268701\n",
            "CM [[ 674  378  808]\n",
            " [ 258  396 1020]\n",
            " [ 184  603 5117]]\n",
            "ACC 0.655541428268701\n",
            "SVM\n",
            "F1 0.9725728816637907\n",
            "CM [[ 4709    28    72]\n",
            " [   64  2608   352]\n",
            " [   36    52 14101]]\n",
            "ACC 0.9725728816637907\n",
            "F1 0.7664759482941301\n",
            "CM [[1444  202  214]\n",
            " [ 599  373  702]\n",
            " [ 209  278 5417]]\n",
            "ACC 0.7664759482941301\n"
          ],
          "name": "stdout"
        }
      ]
    },
    {
      "cell_type": "code",
      "metadata": {
        "id": "N54lAyrDCABP",
        "colab_type": "code",
        "outputId": "fb75c87e-2267-4f9e-b8f2-65111ee89c51",
        "colab": {
          "base_uri": "https://localhost:8080/",
          "height": 225
        }
      },
      "source": [
        "# try with large C value in SVC\n",
        "\n",
        "print(\"SVM-rbf\")\n",
        "y_true = train['type'].astype('int')\n",
        "clf = SVC(C=1000, gamma=0.01, probability=True)\n",
        "clf.fit(X_train, y_true)\n",
        "y_pred = clf.predict(X_train)\n",
        "\n",
        "print(\"F1\", f1_score(y_true, y_pred, average=\"micro\"))\n",
        "print(\"CM\", confusion_matrix(y_true, y_pred))\n",
        "print(\"ACC\", accuracy_score(y_true, y_pred))\n",
        "\n",
        "y_true = test['type'].astype('int')\n",
        "y_pred = clf.predict(X_test)\n",
        "\n",
        "print(\"F1\", f1_score(y_true, y_pred, average=\"micro\"))\n",
        "print(\"CM\", confusion_matrix(y_true, y_pred))\n",
        "print(\"ACC\", accuracy_score(y_true, y_pred))"
      ],
      "execution_count": 0,
      "outputs": [
        {
          "output_type": "stream",
          "text": [
            "SVM-rbf\n",
            "F1 0.9721641994369267\n",
            "CM [[ 4718    29    62]\n",
            " [   75  2591   358]\n",
            " [   34    55 14100]]\n",
            "ACC 0.9721641994369267\n",
            "F1 0.7412587412587412\n",
            "CM [[1361  274  225]\n",
            " [ 604  424  646]\n",
            " [ 300  393 5211]]\n",
            "ACC 0.7412587412587412\n"
          ],
          "name": "stdout"
        }
      ]
    },
    {
      "cell_type": "code",
      "metadata": {
        "id": "MjYmIm7bIyjV",
        "colab_type": "code",
        "outputId": "8a4e68b4-ff61-4814-a905-f32da512fa05",
        "colab": {
          "base_uri": "https://localhost:8080/",
          "height": 328
        }
      },
      "source": [
        "# Try with fold\n",
        "# Not yet install\n",
        "\n",
        "# from pystacknet.pystacknet import StackNetClassifier\n",
        "\n",
        "# model = StackNetClassifier(\n",
        "#     models, metric=\"accuracy\", \n",
        "#     folds=5,\n",
        "#     restacking=False, \n",
        "#     use_retraining=True, \n",
        "#     use_proba=True, \n",
        "#     random_state=12345, n_jobs=1, verbose=1\n",
        "# )\n",
        "\n",
        "# y_train = train['label'].astype('int')\n",
        "# model.fit(X_train, y_train)\n",
        "# preds=model.predict_proba(X_test)"
      ],
      "execution_count": 0,
      "outputs": [
        {
          "output_type": "error",
          "ename": "ModuleNotFoundError",
          "evalue": "ignored",
          "traceback": [
            "\u001b[0;31m---------------------------------------------------------------------------\u001b[0m",
            "\u001b[0;31mModuleNotFoundError\u001b[0m                       Traceback (most recent call last)",
            "\u001b[0;32m<ipython-input-65-366094ef364f>\u001b[0m in \u001b[0;36m<module>\u001b[0;34m()\u001b[0m\n\u001b[0;32m----> 1\u001b[0;31m \u001b[0;32mfrom\u001b[0m \u001b[0mpystacknet\u001b[0m\u001b[0;34m.\u001b[0m\u001b[0mpystacknet\u001b[0m \u001b[0;32mimport\u001b[0m \u001b[0mStackNetClassifier\u001b[0m\u001b[0;34m\u001b[0m\u001b[0;34m\u001b[0m\u001b[0m\n\u001b[0m",
            "\u001b[0;31mModuleNotFoundError\u001b[0m: No module named 'pystacknet'",
            "",
            "\u001b[0;31m---------------------------------------------------------------------------\u001b[0;32m\nNOTE: If your import is failing due to a missing package, you can\nmanually install dependencies using either !pip or !apt.\n\nTo view examples of installing some common dependencies, click the\n\"Open Examples\" button below.\n\u001b[0;31m---------------------------------------------------------------------------\u001b[0m\n"
          ]
        }
      ]
    },
    {
      "cell_type": "code",
      "metadata": {
        "id": "UKt7fudYM8wb",
        "colab_type": "code",
        "colab": {}
      },
      "source": [
        "import pickle"
      ],
      "execution_count": 0,
      "outputs": []
    },
    {
      "cell_type": "code",
      "metadata": {
        "id": "pplKJnKaNPKq",
        "colab_type": "code",
        "colab": {}
      },
      "source": [
        "with open('NLP1920_random_forest.pkl', 'wb') as f:\n",
        "  pickle.dump(clfs[\"RF\"], f)\n",
        "\n",
        "with open('NLP1920_gradient_boosting.pkl', 'wb') as f:\n",
        "  pickle.dump(clfs[\"GB\"], f)\n",
        "\n",
        "with open('NLP1920_linear_regression.pkl', 'wb') as f:\n",
        "  pickle.dump(clfs[\"LR\"], f)\n",
        "\n",
        "with open('NLP1920_svm.pkl', 'wb') as f:\n",
        "  pickle.dump(clfs[\"SVM\"], f)"
      ],
      "execution_count": 0,
      "outputs": []
    },
    {
      "cell_type": "code",
      "metadata": {
        "id": "ccNHidVbN_AC",
        "colab_type": "code",
        "colab": {}
      },
      "source": [
        "!cp NLP1920_random_forest.pkl drive/My\\ 'Drive/Colab Notebooks/NLP_1920_FinalExam/ML Models'\n",
        "!cp NLP1920_gradient_boosting.pkl drive/My\\ 'Drive/Colab Notebooks/NLP_1920_FinalExam/ML Models'\n",
        "!cp NLP1920_linear_regression.pkl drive/My\\ 'Drive/Colab Notebooks/NLP_1920_FinalExam/ML Models'\n",
        "!cp NLP1920_svm.pkl drive/My\\ 'Drive/Colab Notebooks/NLP_1920_FinalExam/ML Models'"
      ],
      "execution_count": 0,
      "outputs": []
    },
    {
      "cell_type": "code",
      "metadata": {
        "id": "5PQcnuJWOj11",
        "colab_type": "code",
        "colab": {}
      },
      "source": [
        "with open('NLP1920_tfidf.pkl', 'wb') as f:\n",
        "    pickle.dump(tfidf, f)"
      ],
      "execution_count": 0,
      "outputs": []
    },
    {
      "cell_type": "code",
      "metadata": {
        "id": "2O95EM8xO7Y-",
        "colab_type": "code",
        "colab": {}
      },
      "source": [
        "!cp NLP1920_tfidf.pkl drive/My\\ 'Drive/Colab Notebooks/NLP_1920_FinalExam/ML Models'"
      ],
      "execution_count": 0,
      "outputs": []
    },
    {
      "cell_type": "code",
      "metadata": {
        "id": "845OddUaO_dv",
        "colab_type": "code",
        "colab": {}
      },
      "source": [
        "# Test model\n",
        "# Try with Gradient Boosting first\n",
        "\n",
        "test_sentence = 'Giao hàng nhanh, đóng gói cẩn thận. Son đánh lên rất mượt thích hơn các ver trước mình sử sụng. Rất thích nhé shop'\n",
        "sen_tfidf = tfidf.transform([test_sentence])"
      ],
      "execution_count": 0,
      "outputs": []
    },
    {
      "cell_type": "code",
      "metadata": {
        "id": "3LwIvAYQQAtM",
        "colab_type": "code",
        "colab": {}
      },
      "source": [
        "feat = hstack([sen_tfidf]).tocsr()"
      ],
      "execution_count": 0,
      "outputs": []
    },
    {
      "cell_type": "code",
      "metadata": {
        "id": "YClaqY-yQJIO",
        "colab_type": "code",
        "colab": {}
      },
      "source": [
        "label = clfs[\"GB\"].predict(feat)"
      ],
      "execution_count": 0,
      "outputs": []
    },
    {
      "cell_type": "code",
      "metadata": {
        "id": "JkC8LMlBQPTA",
        "colab_type": "code",
        "outputId": "c1d3c0d1-4c4a-4c63-96cd-c502540e50c1",
        "colab": {
          "base_uri": "https://localhost:8080/",
          "height": 36
        }
      },
      "source": [
        "convertToTypeDict = {1: 'NEG', 2: 'NEU', 3: 'POS'}\n",
        "print(convertToTypeDict[int(label[0])])"
      ],
      "execution_count": 0,
      "outputs": [
        {
          "output_type": "stream",
          "text": [
            "POS\n"
          ],
          "name": "stdout"
        }
      ]
    },
    {
      "cell_type": "code",
      "metadata": {
        "id": "_7bdaeMTQRsJ",
        "colab_type": "code",
        "colab": {}
      },
      "source": [
        "# !cp test.csv drive/My\\ 'Drive/Colab Notebooks/NLP_1920_FinalExam/ML Models'\n",
        "# !cp train.csv drive/My\\ 'Drive/Colab Notebooks/NLP_1920_FinalExam/ML Models'"
      ],
      "execution_count": 0,
      "outputs": []
    },
    {
      "cell_type": "code",
      "metadata": {
        "id": "pXo17p9VRLvX",
        "colab_type": "code",
        "colab": {}
      },
      "source": [
        ""
      ],
      "execution_count": 0,
      "outputs": []
    }
  ]
}